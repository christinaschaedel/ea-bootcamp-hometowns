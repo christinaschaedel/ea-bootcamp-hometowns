{
 "cells": [
  {
   "cell_type": "markdown",
   "id": "aba9120b",
   "metadata": {},
   "source": [
    "### Lakewood, Colorado ###"
   ]
  },
  {
   "cell_type": "markdown",
   "id": "33f0b645",
   "metadata": {},
   "source": [
    "I'm supposed to add random facts about Lakewood but I don't have time to do that right now, I will add one header and am bolding this **text.**"
   ]
  },
  {
   "cell_type": "code",
   "execution_count": null,
   "id": "4fad62c9",
   "metadata": {},
   "outputs": [],
   "source": []
  }
 ],
 "metadata": {
  "kernelspec": {
   "display_name": "Python 3 (ipykernel)",
   "language": "python",
   "name": "python3"
  },
  "language_info": {
   "codemirror_mode": {
    "name": "ipython",
    "version": 3
   },
   "file_extension": ".py",
   "mimetype": "text/x-python",
   "name": "python",
   "nbconvert_exporter": "python",
   "pygments_lexer": "ipython3",
   "version": "3.10.10"
  }
 },
 "nbformat": 4,
 "nbformat_minor": 5
}
